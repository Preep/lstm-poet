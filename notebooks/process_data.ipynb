{
 "cells": [
  {
   "cell_type": "code",
   "execution_count": 10,
   "metadata": {},
   "outputs": [],
   "source": [
    "import string\n",
    "import pandas as pd\n",
    "import numpy as np\n",
    "from matplotlib import pyplot as plt\n",
    "%matplotlib inline"
   ]
  },
  {
   "cell_type": "code",
   "execution_count": 11,
   "metadata": {},
   "outputs": [],
   "source": [
    "df = pd.read_csv('poems.csv')"
   ]
  },
  {
   "cell_type": "code",
   "execution_count": 12,
   "metadata": {},
   "outputs": [],
   "source": [
    "df['poem'] = df['poem'].str.findall(r\"\\w+-\\w+|[\\w']+|\\|\")\\\n",
    "    .apply(lambda x: ' '.join(x).lower() if type(x)==list else '')\n",
    "\n",
    "df['poem'] = df['poem'].apply(lambda x: x.lower() if type(x)==str else '')\n",
    "df = df[~df['poem'].str.contains('і')]\n",
    "df['poem'] = df['poem'].apply(lambda x: x.lower()).apply(lambda x: x.split('|'))"
   ]
  },
  {
   "cell_type": "code",
   "execution_count": 13,
   "metadata": {},
   "outputs": [],
   "source": [
    "def clear_residual_spaces(poem_list):\n",
    "    clean_poem = []\n",
    "    for line in poem_list:\n",
    "        clean_line = ' '.join([x for x in line.split() if len(x)>0])\n",
    "        clean_poem.append(clean_line)\n",
    "    return clean_poem\n",
    "\n",
    "def clear_lines_with_numbers(poem_list):\n",
    "    clean_poem = []\n",
    "    for line in poem_list:\n",
    "        if not any([True for x in line if x in '1234567890']):\n",
    "            clean_poem.append(line)\n",
    "    return clean_poem\n",
    "\n",
    "def clear_lines_with_links(poem_list):\n",
    "    clean_poem = []\n",
    "    for line in poem_list:\n",
    "        if 'http' not in line:\n",
    "            clean_poem.append(line)\n",
    "    return clean_poem\n",
    "\n",
    "def clear_short_lines(poem_list, n_times_lower=4):\n",
    "    clean_poem = []\n",
    "    if len(poem_list)==0:\n",
    "        clean_poem = np.nan\n",
    "    else:\n",
    "        avg_line_len = sum([len(x) for x in poem_list])/len(poem_list)\n",
    "        for line in poem_list:\n",
    "            if len(line) > avg_line_len//n_times_lower:\n",
    "                clean_poem.append(line)\n",
    "    return clean_poem\n",
    "\n",
    "df['poem'] = df['poem'].apply(clear_residual_spaces)\n",
    "df['poem'] = df['poem'].apply(clear_lines_with_links)\n",
    "df['poem'] = df['poem'].apply(clear_lines_with_numbers)\n",
    "df['poem'] = df['poem'].apply(clear_short_lines)\n",
    "df.dropna(inplace=True)"
   ]
  },
  {
   "cell_type": "code",
   "execution_count": 14,
   "metadata": {},
   "outputs": [
    {
     "data": {
      "text/plain": [
       "array([[<matplotlib.axes._subplots.AxesSubplot object at 0x0000021829821A20>,\n",
       "        <matplotlib.axes._subplots.AxesSubplot object at 0x000002189A37D3C8>]],\n",
       "      dtype=object)"
      ]
     },
     "execution_count": 14,
     "metadata": {},
     "output_type": "execute_result"
    },
    {
     "data": {
      "image/png": "[encoded data removed]",
      "text/plain": [
       "<Figure size 432x288 with 2 Axes>"
      ]
     },
     "metadata": {
      "needs_background": "light"
     },
     "output_type": "display_data"
    }
   ],
   "source": [
    "df['line_count'] = df['poem'].apply(lambda x: len(x))\n",
    "df = df[df['line_count']>1]\n",
    "df = df[df['line_count']<df['line_count'].quantile(0.85)]\n",
    "\n",
    "df['line_lenght'] = df['poem'].apply(lambda x: max([len(y.split()) for y in x]))\n",
    "df = df[(df['line_lenght']<14)&(df['line_lenght']>=2)]\n",
    "\n",
    "df[['line_count', 'line_lenght']].hist(bins=30)"
   ]
  },
  {
   "cell_type": "code",
   "execution_count": 49,
   "metadata": {},
   "outputs": [
    {
     "name": "stderr",
     "output_type": "stream",
     "text": [
      "C:\\Users\\Valeric\\Anaconda3\\lib\\site-packages\\ipykernel_launcher.py:1: FutureWarning: The signature of `Series.to_csv` was aligned to that of `DataFrame.to_csv`, and argument 'header' will change its default value from False to True: please pass an explicit value to suppress this warning.\n",
      "  \"\"\"Entry point for launching an IPython kernel.\n"
     ]
    }
   ],
   "source": [
    "df[['poem']].to_csv('poems_processed.csv', index=False)"
   ]
  },
  {
   "cell_type": "code",
   "execution_count": 14,
   "metadata": {
    "scrolled": true
   },
   "outputs": [
    {
     "data": {
      "text/plain": [
       "array([list(['неизвестный гражданин вдруг её разбередил', 'её этот гражданин сексом сзади наградил']),\n",
       "       list(['единожды солгавши ты прощаешься с лицом', 'и многожды встречаешься с зеркальным но лжецом']),\n",
       "       list(['картошка в мундире и баночка мёда', 'а вкусно вы не пробовали']),\n",
       "       list(['легкий способ бросить пить курить и материться', 'надо попросту в россии не родиться']),\n",
       "       list(['радиостанция business fm сравнила российские пенсии с мировыми', 'сведения взяты из открытых источников'])],\n",
       "      dtype=object)"
      ]
     },
     "execution_count": 14,
     "metadata": {},
     "output_type": "execute_result"
    }
   ],
   "source": [
    "df[df['line_count']==2]['poem'].sample(5).values"
   ]
  },
  {
   "cell_type": "code",
   "execution_count": 40,
   "metadata": {
    "scrolled": true
   },
   "outputs": [
    {
     "data": {
      "text/plain": [
       "array([list(['а у нашей кошечки', 'на спине полосочки', 'черная и серая', 'и маленькая белая', 'рыженькие лапки', 'когти цап-царапки', 'серенький бочок', 'шершавый язычок', 'рано утречком встаёт', 'спать нам долго не даёт', 'и играет и мяучит', 'не проснёмся так замучит', 'дайте кошечки поесть', 'в холодильнике что есть', 'там колбаска там сосиски', 'рыбка мясико ириски', 'нет ириски-не еда', 'мясико давай сюда', 'рыбку свежую икру', 'только этого я жду'])],\n",
       "      dtype=object)"
      ]
     },
     "execution_count": 40,
     "metadata": {},
     "output_type": "execute_result"
    }
   ],
   "source": [
    "df[df['poem'].apply(lambda x: ''.join(x)).str.contains('на спине полосочки')]['poem'].values"
   ]
  },
  {
   "cell_type": "code",
   "execution_count": 6,
   "metadata": {},
   "outputs": [
    {
     "data": {
      "text/plain": [
       "220"
      ]
     },
     "execution_count": 6,
     "metadata": {},
     "output_type": "execute_result"
    }
   ],
   "source": [
    "len(df)"
   ]
  },
  {
   "cell_type": "code",
   "execution_count": 9,
   "metadata": {},
   "outputs": [
    {
     "data": {
      "text/plain": [
       "1068      2\n",
       "1448      2\n",
       "1714      3\n",
       "2370      2\n",
       "3823      2\n",
       "6904      2\n",
       "6953      2\n",
       "8640      3\n",
       "8960      1\n",
       "9430      1\n",
       "10296     2\n",
       "10519     2\n",
       "10760     1\n",
       "10772     3\n",
       "10849     2\n",
       "11187     2\n",
       "11535     2\n",
       "12397     2\n",
       "12506     2\n",
       "12604     2\n",
       "13214     1\n",
       "16050     2\n",
       "16839     2\n",
       "17137     2\n",
       "17278     2\n",
       "19125     2\n",
       "20610     1\n",
       "20651     1\n",
       "20891     2\n",
       "23319     2\n",
       "         ..\n",
       "204949    2\n",
       "206033    2\n",
       "206351    2\n",
       "207575    2\n",
       "209129    2\n",
       "210561    2\n",
       "212279    2\n",
       "215091    2\n",
       "215927    1\n",
       "216257    2\n",
       "216747    2\n",
       "216879    2\n",
       "218217    4\n",
       "218643    2\n",
       "220073    1\n",
       "223527    2\n",
       "223641    2\n",
       "223919    2\n",
       "225462    2\n",
       "226529    2\n",
       "232627    3\n",
       "233257    2\n",
       "236464    1\n",
       "236688    2\n",
       "237601    2\n",
       "237768    1\n",
       "245383    2\n",
       "248058    2\n",
       "248749    2\n",
       "250014    2\n",
       "Name: poem, Length: 220, dtype: int64"
      ]
     },
     "execution_count": 9,
     "metadata": {},
     "output_type": "execute_result"
    }
   ],
   "source": []
  },
  {
   "cell_type": "code",
   "execution_count": null,
   "metadata": {},
   "outputs": [],
   "source": []
  }
 ],
 "metadata": {
  "kernelspec": {
   "display_name": "Python 3",
   "language": "python",
   "name": "python3"
  },
  "language_info": {
   "codemirror_mode": {
    "name": "ipython",
    "version": 3
   },
   "file_extension": ".py",
   "mimetype": "text/x-python",
   "name": "python",
   "nbconvert_exporter": "python",
   "pygments_lexer": "ipython3",
   "version": "3.7.3"
  }
 },
 "nbformat": 4,
 "nbformat_minor": 2
}
